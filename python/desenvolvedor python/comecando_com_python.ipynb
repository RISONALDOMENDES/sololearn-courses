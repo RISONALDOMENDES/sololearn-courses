{
 "cells": [
  {
   "cell_type": "code",
   "execution_count": 2,
   "metadata": {},
   "outputs": [
    {
     "name": "stdout",
     "output_type": "stream",
     "text": [
      "Game over\n"
     ]
    }
   ],
   "source": [
    "#mensagem do jogo\n",
    "message = \"Game over\"\n",
    "print(message)"
   ]
  },
  {
   "cell_type": "code",
   "execution_count": 1,
   "metadata": {},
   "outputs": [
    {
     "name": "stdout",
     "output_type": "stream",
     "text": [
      "139\n"
     ]
    }
   ],
   "source": [
    "#preço de compra\n",
    "price = 139\n",
    "print(price)"
   ]
  },
  {
   "cell_type": "code",
   "execution_count": 3,
   "metadata": {},
   "outputs": [
    {
     "name": "stdout",
     "output_type": "stream",
     "text": [
      "Anna\n",
      "96\n"
     ]
    }
   ],
   "source": [
    "#e o vencedor é\n",
    "name = \"Anna\"\n",
    "score = 96\n",
    "print(name)\n",
    "print(score)"
   ]
  },
  {
   "cell_type": "code",
   "execution_count": 4,
   "metadata": {},
   "outputs": [
    {
     "name": "stdout",
     "output_type": "stream",
     "text": [
      "BA0117\n",
      "New York\n",
      "1580\n"
     ]
    }
   ],
   "source": [
    "#rastreador de voo\n",
    "#storing the flight number\n",
    "flight_n = \"BA0117\"\n",
    "\n",
    "#storing the flight information\n",
    "destination = \"New York\"\n",
    "distance = 1580\n",
    "\n",
    "print(flight_n)\n",
    "print(destination)\n",
    "print(distance)"
   ]
  },
  {
   "cell_type": "code",
   "execution_count": 1,
   "metadata": {},
   "outputs": [
    {
     "name": "stdout",
     "output_type": "stream",
     "text": [
      "160000\n"
     ]
    }
   ],
   "source": [
    "#dia de pagamento\n",
    "salary = 150000\n",
    "pay_raise = 10000\n",
    "\n",
    "#create a variable named new_salary\n",
    "\n",
    "new_salary = salary + pay_raise\n",
    "print(new_salary)"
   ]
  },
  {
   "cell_type": "code",
   "execution_count": 2,
   "metadata": {},
   "outputs": [
    {
     "name": "stdout",
     "output_type": "stream",
     "text": [
      "Tom\n"
     ]
    }
   ],
   "source": [
    "#chatbot v1.0\n",
    "\n",
    "# ask the user for input and store it in a variable\n",
    "name = input()\n",
    "\n",
    "#display the user input on the screen\n",
    "print(name)"
   ]
  },
  {
   "cell_type": "code",
   "execution_count": 5,
   "metadata": {},
   "outputs": [
    {
     "name": "stdout",
     "output_type": "stream",
     "text": [
      "Nice to meet you,mary\n"
     ]
    }
   ],
   "source": [
    "# chatbpot v1.1\n",
    "\n",
    "#take the name as input\n",
    "name = input()\n",
    "\n",
    "#use concatenation to join 2 strings\n",
    "message = \"Nice to meet you,\" + name\n",
    "\n",
    "#display the message to the user\n",
    "print(message)"
   ]
  },
  {
   "cell_type": "code",
   "execution_count": 6,
   "metadata": {},
   "outputs": [
    {
     "name": "stdout",
     "output_type": "stream",
     "text": [
      "Amount in 1 year: 157.5\n"
     ]
    }
   ],
   "source": [
    "# app de finanças\n",
    "\n",
    "#ask thew use to enter the savings\n",
    "savings = input()\n",
    "\n",
    "#convert the user input into a float value and update the variable\n",
    "savings = float(savings)\n",
    "\n",
    "#savings grow aftewr 1 year at a 5% annual interest rate\n",
    "balance = savings * 1.05\n",
    "\n",
    "#convert the balance into a string and update the variable\n",
    "balance = str(balance)\n",
    "\n",
    "#concatenate the 2 strings to produce a message\n",
    "message = \"Amount in 1 year: \" + balance\n",
    "\n",
    "#display the message\n",
    "print(message)"
   ]
  },
  {
   "cell_type": "code",
   "execution_count": 7,
   "metadata": {},
   "outputs": [
    {
     "name": "stdout",
     "output_type": "stream",
     "text": [
      "True\n"
     ]
    }
   ],
   "source": [
    "#avance de nivel\n",
    "\n",
    "#teh program takes the score as an input\n",
    "score = int(input())\n",
    "\n",
    "#add the compárison operation inside the parentheses\n",
    "print(score > 100)"
   ]
  },
  {
   "cell_type": "code",
   "execution_count": 9,
   "metadata": {},
   "outputs": [
    {
     "name": "stdout",
     "output_type": "stream",
     "text": [
      "True\n"
     ]
    }
   ],
   "source": [
    "#meta de fitness\n",
    "\n",
    "#take steps and mminutes as input\n",
    "steps = int(input())\n",
    "active_minutes = int(input())\n",
    "\n",
    "#store the result of the operations in the variable\n",
    "goal_achieved = (steps > 10000) or (active_minutes > 30)\n",
    "\n",
    "#display the result  opn the screnn\n",
    "print(goal_achieved)"
   ]
  },
  {
   "cell_type": "code",
   "execution_count": 10,
   "metadata": {},
   "outputs": [
    {
     "name": "stdout",
     "output_type": "stream",
     "text": [
      "Fasten your seat belt\n",
      "Fasten your seat belt\n",
      "Fasten your seat belt\n"
     ]
    }
   ],
   "source": [
    "#aperte o seu cinto de segurança\n",
    "\n",
    "#message to be displayed\n",
    "message = \"Fasten your seat belt\"\n",
    "\n",
    "#for loop to dispay the message 3 times\n",
    "for m in range(0, 3):\n",
    "    print(message)"
   ]
  },
  {
   "cell_type": "code",
   "execution_count": 11,
   "metadata": {},
   "outputs": [
    {
     "name": "stdout",
     "output_type": "stream",
     "text": [
      "3\n",
      "2\n",
      "1\n",
      "0\n"
     ]
    }
   ],
   "source": [
    "# acabou o tempo\n",
    "\n",
    "#take the number as input\n",
    "number = int(input())\n",
    "\n",
    "#use a while loop for the countdown\n",
    "cont = number\n",
    "while cont >= 0:\n",
    "    print(cont)\n",
    "    cont = cont - 1"
   ]
  },
  {
   "cell_type": "code",
   "execution_count": 12,
   "metadata": {},
   "outputs": [
    {
     "name": "stdout",
     "output_type": "stream",
     "text": [
      "Avaliable spaces\n"
     ]
    }
   ],
   "source": [
    "#estacionamento inteligente\n",
    "\n",
    "#take the number of avaliable spaces as an input\n",
    "spaces = int(input())\n",
    "\n",
    "#display message if spaces are avaliable\n",
    "if spaces > 0:\n",
    "    print(\"Avaliable spaces\")\n",
    "    \n",
    "#display a different message id=f spaces\n",
    "else:\n",
    "    print(\"Sorry, the parking lot is full\")"
   ]
  },
  {
   "cell_type": "code",
   "execution_count": 13,
   "metadata": {},
   "outputs": [
    {
     "name": "stdout",
     "output_type": "stream",
     "text": [
      "Low glucose level\n"
     ]
    }
   ],
   "source": [
    "#software medico\n",
    "\n",
    "#glucose level in an input for this software\n",
    "glucose_level = int(input())\n",
    "\n",
    "#display message if glucose level in less than 70\n",
    "if glucose_level <= 70:\n",
    "    print(\"Low glucose level\")\n",
    "    \n",
    "#display message if glucose level in greater than 140\n",
    "elif glucose_level >= 150:\n",
    "    print(\"High glucose level\")\n",
    "    \n",
    "#display message if none of the conditions above are met\n",
    "else:\n",
    "    print(\"Normal range\")"
   ]
  },
  {
   "cell_type": "code",
   "execution_count": null,
   "metadata": {},
   "outputs": [],
   "source": [
    "hhoijhadsjhaoi\n",
    "\n",
    "bjhbfhaohndfaç\n"
   ]
  }
 ],
 "metadata": {
  "kernelspec": {
   "display_name": "Python 3",
   "language": "python",
   "name": "python3"
  },
  "language_info": {
   "codemirror_mode": {
    "name": "ipython",
    "version": 3
   },
   "file_extension": ".py",
   "mimetype": "text/x-python",
   "name": "python",
   "nbconvert_exporter": "python",
   "pygments_lexer": "ipython3",
   "version": "3.12.1"
  }
 },
 "nbformat": 4,
 "nbformat_minor": 2
}
