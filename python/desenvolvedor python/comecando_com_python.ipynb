{
 "cells": [
  {
   "cell_type": "code",
   "execution_count": 2,
   "metadata": {},
   "outputs": [
    {
     "name": "stdout",
     "output_type": "stream",
     "text": [
      "Game over\n"
     ]
    }
   ],
   "source": [
    "#mensagem do jogo\n",
    "message = \"Game over\"\n",
    "print(message)"
   ]
  },
  {
   "cell_type": "code",
   "execution_count": 1,
   "metadata": {},
   "outputs": [
    {
     "name": "stdout",
     "output_type": "stream",
     "text": [
      "139\n"
     ]
    }
   ],
   "source": [
    "#preço de compra\n",
    "price = 139\n",
    "print(price)"
   ]
  },
  {
   "cell_type": "code",
   "execution_count": 3,
   "metadata": {},
   "outputs": [
    {
     "name": "stdout",
     "output_type": "stream",
     "text": [
      "Anna\n",
      "96\n"
     ]
    }
   ],
   "source": [
    "#e o vencedor é\n",
    "name = \"Anna\"\n",
    "score = 96\n",
    "print(name)\n",
    "print(score)"
   ]
  },
  {
   "cell_type": "code",
   "execution_count": 4,
   "metadata": {},
   "outputs": [
    {
     "name": "stdout",
     "output_type": "stream",
     "text": [
      "BA0117\n",
      "New York\n",
      "1580\n"
     ]
    }
   ],
   "source": [
    "#rastreador de voo\n",
    "#storing the flight number\n",
    "flight_n = \"BA0117\"\n",
    "\n",
    "#storing the flight information\n",
    "destination = \"New York\"\n",
    "distance = 1580\n",
    "\n",
    "print(flight_n)\n",
    "print(destination)\n",
    "print(distance)"
   ]
  },
  {
   "cell_type": "code",
   "execution_count": 1,
   "metadata": {},
   "outputs": [
    {
     "name": "stdout",
     "output_type": "stream",
     "text": [
      "160000\n"
     ]
    }
   ],
   "source": [
    "#dia de pagamento\n",
    "salary = 150000\n",
    "pay_raise = 10000\n",
    "\n",
    "#create a variable named new_salary\n",
    "\n",
    "new_salary = salary + pay_raise\n",
    "print(new_salary)"
   ]
  },
  {
   "cell_type": "code",
   "execution_count": 2,
   "metadata": {},
   "outputs": [
    {
     "name": "stdout",
     "output_type": "stream",
     "text": [
      "Tom\n"
     ]
    }
   ],
   "source": [
    "#chatbot v1.0\n",
    "\n",
    "# ask the user for input and store it in a variable\n",
    "name = input()\n",
    "\n",
    "#display the user input on the screen\n",
    "print(name)"
   ]
  },
  {
   "cell_type": "code",
   "execution_count": 5,
   "metadata": {},
   "outputs": [
    {
     "name": "stdout",
     "output_type": "stream",
     "text": [
      "Nice to meet you,mary\n"
     ]
    }
   ],
   "source": [
    "# chatbpot v1.1\n",
    "\n",
    "#take the name as input\n",
    "name = input()\n",
    "\n",
    "#use concatenation to join 2 strings\n",
    "message = \"Nice to meet you,\" + name\n",
    "\n",
    "#display the message to the user\n",
    "print(message)"
   ]
  },
  {
   "cell_type": "code",
   "execution_count": 6,
   "metadata": {},
   "outputs": [
    {
     "name": "stdout",
     "output_type": "stream",
     "text": [
      "Amount in 1 year: 157.5\n"
     ]
    }
   ],
   "source": [
    "# app de finanças\n",
    "\n",
    "#ask thew use to enter the savings\n",
    "savings = input()\n",
    "\n",
    "#convert the user input into a float value and update the variable\n",
    "savings = float(savings)\n",
    "\n",
    "#savings grow aftewr 1 year at a 5% annual interest rate\n",
    "balance = savings * 1.05\n",
    "\n",
    "#convert the balance into a string and update the variable\n",
    "balance = str(balance)\n",
    "\n",
    "#concatenate the 2 strings to produce a message\n",
    "message = \"Amount in 1 year: \" + balance\n",
    "\n",
    "#display the message\n",
    "print(message)"
   ]
  },
  {
   "cell_type": "code",
   "execution_count": 7,
   "metadata": {},
   "outputs": [
    {
     "name": "stdout",
     "output_type": "stream",
     "text": [
      "True\n"
     ]
    }
   ],
   "source": [
    "#avance de nivel\n",
    "\n",
    "#teh program takes the score as an input\n",
    "score = int(input())\n",
    "\n",
    "#add the compárison operation inside the parentheses\n",
    "print(score > 100)"
   ]
  },
  {
   "cell_type": "code",
   "execution_count": 9,
   "metadata": {},
   "outputs": [
    {
     "name": "stdout",
     "output_type": "stream",
     "text": [
      "True\n"
     ]
    }
   ],
   "source": [
    "#meta de fitness\n",
    "\n",
    "#take steps and mminutes as input\n",
    "steps = int(input())\n",
    "active_minutes = int(input())\n",
    "\n",
    "#store the result of the operations in the variable\n",
    "goal_achieved = (steps > 10000) or (active_minutes > 30)\n",
    "\n",
    "#display the result  opn the screnn\n",
    "print(goal_achieved)"
   ]
  },
  {
   "cell_type": "code",
   "execution_count": 10,
   "metadata": {},
   "outputs": [
    {
     "name": "stdout",
     "output_type": "stream",
     "text": [
      "Fasten your seat belt\n",
      "Fasten your seat belt\n",
      "Fasten your seat belt\n"
     ]
    }
   ],
   "source": [
    "#aperte o seu cinto de segurança\n",
    "\n",
    "#message to be displayed\n",
    "message = \"Fasten your seat belt\"\n",
    "\n",
    "#for loop to dispay the message 3 times\n",
    "for m in range(0, 3):\n",
    "    print(message)"
   ]
  },
  {
   "cell_type": "code",
   "execution_count": 11,
   "metadata": {},
   "outputs": [
    {
     "name": "stdout",
     "output_type": "stream",
     "text": [
      "3\n",
      "2\n",
      "1\n",
      "0\n"
     ]
    }
   ],
   "source": [
    "# acabou o tempo\n",
    "\n",
    "#take the number as input\n",
    "number = int(input())\n",
    "\n",
    "#use a while loop for the countdown\n",
    "cont = number\n",
    "while cont >= 0:\n",
    "    print(cont)\n",
    "    cont = cont - 1"
   ]
  },
  {
   "cell_type": "code",
   "execution_count": 12,
   "metadata": {},
   "outputs": [
    {
     "name": "stdout",
     "output_type": "stream",
     "text": [
      "Avaliable spaces\n"
     ]
    }
   ],
   "source": [
    "#estacionamento inteligente\n",
    "\n",
    "#take the number of avaliable spaces as an input\n",
    "spaces = int(input())\n",
    "\n",
    "#display message if spaces are avaliable\n",
    "if spaces > 0:\n",
    "    print(\"Avaliable spaces\")\n",
    "    \n",
    "#display a different message id=f spaces\n",
    "else:\n",
    "    print(\"Sorry, the parking lot is full\")"
   ]
  },
  {
   "cell_type": "code",
   "execution_count": 13,
   "metadata": {},
   "outputs": [
    {
     "name": "stdout",
     "output_type": "stream",
     "text": [
      "Low glucose level\n"
     ]
    }
   ],
   "source": [
    "#software medico\n",
    "\n",
    "#glucose level in an input for this software\n",
    "glucose_level = int(input())\n",
    "\n",
    "#display message if glucose level in less than 70\n",
    "if glucose_level <= 70:\n",
    "    print(\"Low glucose level\")\n",
    "    \n",
    "#display message if glucose level in greater than 140\n",
    "elif glucose_level >= 150:\n",
    "    print(\"High glucose level\")\n",
    "    \n",
    "#display message if none of the conditions above are met\n",
    "else:\n",
    "    print(\"Normal range\")"
   ]
  },
  {
   "cell_type": "code",
   "execution_count": 1,
   "metadata": {},
   "outputs": [
    {
     "name": "stdout",
     "output_type": "stream",
     "text": [
      "Soccer\n"
     ]
    }
   ],
   "source": [
    "# Máquina de jogo\n",
    "\n",
    "#installed games\n",
    "games = ['Soccer', 'Tic Tac Toe', 'Snake', 'Puzzle', 'Rally']\n",
    "\n",
    "#taking player´s choice as a number input\n",
    "choice = int(input())\n",
    "\n",
    "#output the corresponding game\n",
    "if choice < 5:\n",
    "    print(games[choice])\n",
    "else:\n",
    "    print(\"Tente novamente\")\n"
   ]
  },
  {
   "cell_type": "code",
   "execution_count": 2,
   "metadata": {},
   "outputs": [
    {
     "name": "stdout",
     "output_type": "stream",
     "text": [
      "Group 1: \n",
      "['Alice', 'bob']\n",
      "Grouip 2: \n",
      "['Charlie', 'David']\n",
      "Group 3: \n",
      "['Eve', 'Frank']\n"
     ]
    }
   ],
   "source": [
    "# corrida de revezamento\n",
    "\n",
    "players = [\"Alice\", \"bob\", \"Charlie\", \"David\", \"Eve\", \"Frank\"]\n",
    "\n",
    "#create 3 lists with 2 players each\n",
    "#use slicing to create a list for group 1\n",
    "g1 = players[0: 2]\n",
    "\n",
    "#use slicing to create a list for group 2\n",
    "g2 = players[2: 4]\n",
    "\n",
    "#use slicing to create a list for group 3\n",
    "g3 = players[4: ]\n",
    "\n",
    "print(\"Group 1: \")\n",
    "#display the 1st group\n",
    "print(g1)\n",
    "\n",
    "print(\"Grouip 2: \")\n",
    "#display the 2nd group\n",
    "print(g2)\n",
    "\n",
    "print(\"Group 3: \")\n",
    "#display the 3rd group\n",
    "print(g3)"
   ]
  },
  {
   "cell_type": "code",
   "execution_count": 3,
   "metadata": {},
   "outputs": [
    {
     "name": "stdout",
     "output_type": "stream",
     "text": [
      "HELLO\n"
     ]
    }
   ],
   "source": [
    "# formato de dados da pesquisa\n",
    "\n",
    "text = input()\n",
    "\n",
    "#convert to uppercase\n",
    "text_upper = text.upper()\n",
    "\n",
    "#display on teh screen\n",
    "print(text_upper)"
   ]
  },
  {
   "cell_type": "code",
   "execution_count": 5,
   "metadata": {},
   "outputs": [
    {
     "name": "stdout",
     "output_type": "stream",
     "text": [
      "70\n"
     ]
    }
   ],
   "source": [
    "# custo de envio\n",
    "\n",
    "#taking the weight as input\n",
    "weight = int(input())\n",
    "\n",
    "#complete the function\n",
    "def shipping_cost(weight):\n",
    "    total = weight * 5\n",
    "    print(total)\n",
    "    \n",
    "#function call\n",
    "shipping_cost(weight)"
   ]
  },
  {
   "cell_type": "code",
   "execution_count": 6,
   "metadata": {},
   "outputs": [
    {
     "name": "stdout",
     "output_type": "stream",
     "text": [
      "BMW\n"
     ]
    }
   ],
   "source": [
    "#dicionarios\n",
    "\n",
    "car = {\n",
    "    'brand': 'BMW',\n",
    "    'year': 2018,\n",
    "    'color': 'red',\n",
    "    'mileage': 15000\n",
    "}\n",
    "x = input()\n",
    "print(car[x])"
   ]
  },
  {
   "cell_type": "code",
   "execution_count": 7,
   "metadata": {},
   "outputs": [
    {
     "name": "stdout",
     "output_type": "stream",
     "text": [
      "Amanda is 63\n"
     ]
    }
   ],
   "source": [
    "# Tuples\n",
    "\n",
    "contacts = {\n",
    "    ('James', 42),\n",
    "    ('Amy', 24),\n",
    "    ('John', 31),\n",
    "    ('Amanda', 63),\n",
    "    ('Bob', 18)\n",
    "}\n",
    "key = input()\n",
    "c = 0\n",
    "\n",
    "for i in contacts:\n",
    "    if i[0] == key:\n",
    "        print(key, \"is\", i[1])\n",
    "        break\n",
    "    c += 1\n",
    "if c == len(contacts):\n",
    "    print(\"Not Found\")"
   ]
  },
  {
   "cell_type": "code",
   "execution_count": 9,
   "metadata": {},
   "outputs": [
    {
     "name": "stdout",
     "output_type": "stream",
     "text": [
      "HTML\n"
     ]
    }
   ],
   "source": [
    "# Conjuntos\n",
    "\n",
    "skills = {'Python', 'HTML', 'SQL', 'C++', 'Java', 'Scala'}\n",
    "job_skills = {'HTML', 'CSS', 'JS', 'C#','nodeJS'}\n",
    "\n",
    "x = skills & job_skills\n",
    "\n",
    "for i in x:\n",
    "    print(i)"
   ]
  },
  {
   "cell_type": "code",
   "execution_count": 4,
   "metadata": {},
   "outputs": [
    {
     "name": "stdout",
     "output_type": "stream",
     "text": [
      "53.76\n"
     ]
    }
   ],
   "source": [
    "# Lambda\n",
    "\n",
    "\n",
    "price = int(input())\n",
    "perc = int(input())\n",
    "\n",
    "res = (lambda x,y: x*(y/100))(price, perc)\n",
    "\n",
    "\n",
    "print(res)"
   ]
  },
  {
   "cell_type": "code",
   "execution_count": 9,
   "metadata": {},
   "outputs": [
    {
     "name": "stdout",
     "output_type": "stream",
     "text": [
      "[5, 7, 11, 13, 17]\n"
     ]
    }
   ],
   "source": [
    "# geradores\n",
    "\n",
    "def isPrime(x):\n",
    "    if x < 2:\n",
    "        return False\n",
    "    elif x == 2:\n",
    "        return True\n",
    "    for n in range(2, x):\n",
    "        if x % n == 0:\n",
    "            return False\n",
    "    return True\n",
    "    \n",
    "def primeGenerator(a, b):\n",
    "    #your code goes here\n",
    "    for m in range(f, t):\n",
    "        if isPrime(m):\n",
    "            yield m\n",
    "\n",
    "\n",
    "f = int(input())\n",
    "t = int(input())\n",
    "\n",
    "print(list(primeGenerator(f, t)))"
   ]
  },
  {
   "cell_type": "code",
   "execution_count": 10,
   "metadata": {},
   "outputs": [
    {
     "name": "stdout",
     "output_type": "stream",
     "text": [
      "101010\n"
     ]
    }
   ],
   "source": [
    "#recursão\n",
    "\n",
    "def convert(num):\n",
    "    if num == 0:\n",
    "        return 0\n",
    "    else:\n",
    "        return (num % 2 + 10 * convert(num // 2))\n",
    "    \n",
    "print(convert(int(input())))"
   ]
  },
  {
   "cell_type": "code",
   "execution_count": 14,
   "metadata": {},
   "outputs": [
    {
     "name": "stdout",
     "output_type": "stream",
     "text": [
      "Jogador1 (Level 4)\n"
     ]
    }
   ],
   "source": [
    "# Classes\n",
    "\n",
    "class Jogador:\n",
    "    def __init__(self, name, level):\n",
    "        self.name = name\n",
    "        self.level = level\n",
    "        \n",
    "    def intro(self):\n",
    "        print(self.name + \" (Level \" + self.level + \")\")\n",
    "        \n",
    "        \n",
    "#your code goes here\n",
    "name = input()       \n",
    "level = input()\n",
    "\n",
    "#creating a jogador obeject with user input\n",
    "jogador_object = Jogador(name, level)\n",
    "\n",
    "#calling the intro() method of the created object\n",
    "jogador_object.intro()"
   ]
  },
  {
   "cell_type": "code",
   "execution_count": 15,
   "metadata": {},
   "outputs": [
    {
     "name": "stdout",
     "output_type": "stream",
     "text": [
      "30\n",
      "False\n"
     ]
    }
   ],
   "source": [
    "# sobrecarga de operador\n",
    "\n",
    "class Shape:\n",
    "    def __init__(self, w, h):\n",
    "        self.width = w\n",
    "        self.height = h\n",
    "        \n",
    "    def area(self):\n",
    "        return self.width * self.height\n",
    "    \n",
    "    #your code goes here\n",
    "    def __add__(self, other):\n",
    "        return Shape(self.width + other.width, self.height + other.height)\n",
    "    \n",
    "    def __gt__(self, other):\n",
    "        return self.area() > other.area()\n",
    "    \n",
    "w1 = int(input())\n",
    "h1 = int(input())\n",
    "w2 = int(input())\n",
    "h2 = int(input())\n",
    "\n",
    "\n",
    "s1 = Shape(w1, h1)\n",
    "s2 = Shape(w2, h2)    \n",
    "result = s1 + s2\n",
    "\n",
    "print(result.area())\n",
    "print(s1 > s2)"
   ]
  },
  {
   "cell_type": "code",
   "execution_count": 16,
   "metadata": {},
   "outputs": [
    {
     "name": "stdout",
     "output_type": "stream",
     "text": [
      "20\n"
     ]
    }
   ],
   "source": [
    "# metodos estaticos\n",
    "\n",
    "#your code goes here\n",
    "\n",
    "class Shape:\n",
    "    def area(w, h):\n",
    "        return w * h\n",
    "    \n",
    "w = int(input())\n",
    "h = int(input())\n",
    "\n",
    "print(Shape.area(w, h))"
   ]
  },
  {
   "cell_type": "code",
   "execution_count": 7,
   "metadata": {},
   "outputs": [
    {
     "name": "stdout",
     "output_type": "stream",
     "text": [
      "Please enter a number\n"
     ]
    }
   ],
   "source": [
    "#tratamento de exceções\n",
    "\n",
    "def withdraw(amount):\n",
    "    print(str(amount)  + \" withdraw!\")\n",
    "    \n",
    "#your code goes here\n",
    "\n",
    "try:\n",
    "    amount = int(input())\n",
    "    withdraw(amount)\n",
    "except ValueError:\n",
    "    print(\"Please enter a number\")\n",
    "    \n"
   ]
  }
 ],
 "metadata": {
  "kernelspec": {
   "display_name": "Python 3",
   "language": "python",
   "name": "python3"
  },
  "language_info": {
   "codemirror_mode": {
    "name": "ipython",
    "version": 3
   },
   "file_extension": ".py",
   "mimetype": "text/x-python",
   "name": "python",
   "nbconvert_exporter": "python",
   "pygments_lexer": "ipython3",
   "version": "3.12.1"
  }
 },
 "nbformat": 4,
 "nbformat_minor": 2
}
