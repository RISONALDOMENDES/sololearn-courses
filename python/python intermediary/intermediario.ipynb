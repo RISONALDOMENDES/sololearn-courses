{
 "cells": [
  {
   "cell_type": "markdown",
   "metadata": {},
   "source": [
    "Python intermediário\n"
   ]
  },
  {
   "cell_type": "code",
   "execution_count": 2,
   "metadata": {},
   "outputs": [
    {
     "name": "stdout",
     "output_type": "stream",
     "text": [
      "BMW\n"
     ]
    }
   ],
   "source": [
    "#dicionario\n",
    "\n",
    "car = {\n",
    "    'brand': 'BMW',\n",
    "    'yaers': 2018,\n",
    "    'color': 'red'\n",
    "}\n",
    "\n",
    "x = input()\n",
    "print(car[x])\n"
   ]
  },
  {
   "cell_type": "markdown",
   "metadata": {},
   "source": [
    "tuplas"
   ]
  },
  {
   "cell_type": "code",
   "execution_count": 5,
   "metadata": {},
   "outputs": [
    {
     "name": "stdout",
     "output_type": "stream",
     "text": [
      "Bob é 18.\n"
     ]
    }
   ],
   "source": [
    "#contact seach\n",
    "\n",
    "# 01\n",
    "contacts = [\n",
    "    ('James, 42'),\n",
    "    ('Amy', 24),\n",
    "    ('John', 31),\n",
    "    ('Amanda', 63),\n",
    "    ('Bob', 18)\n",
    "]\n",
    "\n",
    "contact = input()\n",
    "\n",
    "\n",
    "def find_contact_age(name, contacts_list):\n",
    "    for contact in contacts_list:\n",
    "        if contact[0] == name:\n",
    "            return contact[1]\n",
    "    return None\n",
    "\n",
    "def main():\n",
    "    name_to_search = input(\"Digite o nome do contato: \")\n",
    "    age = find_contact_age(name_to_search, contacts)\n",
    "\n",
    "    if age is not None:\n",
    "        print(f\"{name_to_search} é {age}.\")\n",
    "    else:\n",
    "        print(f\"Contato {name_to_search} não encontrado na lista.\")\n",
    "\n",
    "if __name__ == \"__main__\":\n",
    "    main()\n"
   ]
  },
  {
   "cell_type": "code",
   "execution_count": 8,
   "metadata": {},
   "outputs": [
    {
     "name": "stdout",
     "output_type": "stream",
     "text": [
      "Not found\n"
     ]
    }
   ],
   "source": [
    "contacts = [\n",
    "    ('James', 42),\n",
    "    ('Amy', 24),\n",
    "    ('John', 31),\n",
    "    ('Amanda', 63),\n",
    "    ('Bob', 18)\n",
    "]\n",
    "\n",
    "\n",
    "def find_contact_age(name, contacts_list):\n",
    "    for contact in contacts_list:\n",
    "        if contact[0] == name:\n",
    "            return contact[1]\n",
    "    return None\n",
    "\n",
    "def main():\n",
    "    name_to_search = input()\n",
    "    age = find_contact_age(name_to_search, contacts)\n",
    "\n",
    "    if age is not None:\n",
    "        print(f\"{name_to_search} is {age}\")\n",
    "    else:\n",
    "        print(\"Not found\")\n",
    "              \n",
    "\n",
    "\n",
    "       \n",
    "if __name__ == \"__main__\":\n",
    "    main()       "
   ]
  },
  {
   "cell_type": "code",
   "execution_count": 7,
   "metadata": {},
   "outputs": [
    {
     "ename": "NameError",
     "evalue": "name 'seache_age' is not defined",
     "output_type": "error",
     "traceback": [
      "\u001b[1;31m---------------------------------------------------------------------------\u001b[0m",
      "\u001b[1;31mNameError\u001b[0m                                 Traceback (most recent call last)",
      "Cell \u001b[1;32mIn[7], line 21\u001b[0m\n\u001b[0;32m     10\u001b[0m contacts \u001b[38;5;241m=\u001b[39m [\n\u001b[0;32m     11\u001b[0m     (\u001b[38;5;124m'\u001b[39m\u001b[38;5;124mJames, 42\u001b[39m\u001b[38;5;124m'\u001b[39m),\n\u001b[0;32m     12\u001b[0m     (\u001b[38;5;124m'\u001b[39m\u001b[38;5;124mAmy\u001b[39m\u001b[38;5;124m'\u001b[39m, \u001b[38;5;241m24\u001b[39m),\n\u001b[1;32m   (...)\u001b[0m\n\u001b[0;32m     15\u001b[0m     (\u001b[38;5;124m'\u001b[39m\u001b[38;5;124mBob\u001b[39m\u001b[38;5;124m'\u001b[39m, \u001b[38;5;241m18\u001b[39m)\n\u001b[0;32m     16\u001b[0m ]\n\u001b[0;32m     19\u001b[0m search_name \u001b[38;5;241m=\u001b[39m \u001b[38;5;28minput\u001b[39m()\n\u001b[1;32m---> 21\u001b[0m result \u001b[38;5;241m=\u001b[39m \u001b[43mseache_age\u001b[49m(search_name, contacts)\n",
      "\u001b[1;31mNameError\u001b[0m: name 'seache_age' is not defined"
     ]
    }
   ],
   "source": [
    "#02\n",
    "\n",
    "def search_age(inputName, contacts):\n",
    "    for name, age in contacts:\n",
    "        if name == inputName:\n",
    "            return  f'{name} is {age}'\n",
    "        \n",
    "    return 'Not found'\n",
    "\n",
    "contacts = [\n",
    "    ('James, 42'),\n",
    "    ('Amy', 24),\n",
    "    ('John', 31),\n",
    "    ('Amanda', 63),\n",
    "    ('Bob', 18)\n",
    "]\n",
    "\n",
    "\n",
    "search_name = input()\n",
    "\n",
    "result = searche_age(search_name, contacts)"
   ]
  }
 ],
 "metadata": {
  "kernelspec": {
   "display_name": "Python 3",
   "language": "python",
   "name": "python3"
  },
  "language_info": {
   "codemirror_mode": {
    "name": "ipython",
    "version": 3
   },
   "file_extension": ".py",
   "mimetype": "text/x-python",
   "name": "python",
   "nbconvert_exporter": "python",
   "pygments_lexer": "ipython3",
   "version": "3.12.1"
  }
 },
 "nbformat": 4,
 "nbformat_minor": 2
}
